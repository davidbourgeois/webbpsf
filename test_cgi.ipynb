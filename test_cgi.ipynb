{
 "cells": [
  {
   "cell_type": "markdown",
   "metadata": {},
   "source": [
    "# Demo: Roman CGI PSF models with WebbPSF"
   ]
  },
  {
   "cell_type": "markdown",
   "metadata": {},
   "source": [
    "This tutorial will walk you through the basics of using the WebbPSF package to generate PSF models for the Roman CGI. If this is your first time using WebbPSF, it could be worthwhile to first go through the original WebbPSF tutorial notebook, hosted at https://github.com/spacetelescope/webbpsf/blob/master/notebooks/WebbPSF_tutorial.ipynb.\n",
    "\n",
    "Current functionality is limited to the Shaped Pupil Coronagraph (SPC) observing modes, and these modes are only simulated with static, unaberrated wavefronts, without relay optics and without DM control. The design respresented here is an approximation to a baseline concept, and will be subject to change based on ongoing trades studies and technology development.\n",
    "\n",
    "First, we set up the notebook to display plots inline, and to plot images with the origin in the lower left."
   ]
  },
  {
   "cell_type": "code",
   "execution_count": null,
   "metadata": {},
   "outputs": [],
   "source": [
    "%pylab inline --no-import-all\n",
    "matplotlib.rcParams['image.origin'] = 'lower'\n",
    "matplotlib.rcParams['image.interpolation'] = 'nearest'"
   ]
  },
  {
   "cell_type": "markdown",
   "metadata": {},
   "source": [
    "## Load packages"
   ]
  },
  {
   "cell_type": "code",
   "execution_count": null,
   "metadata": {},
   "outputs": [],
   "source": [
    "import os\n",
    "os.environ['WEBBPSF_PATH'] = 'home/marken/GitHub/webbpsf/webbpsf_data/'\n",
    "import webbpsf\n",
    "from webbpsf import roman\n",
    "import ipywidgets\n",
    "from astropy.io import fits"
   ]
  },
  {
   "cell_type": "markdown",
   "metadata": {},
   "source": [
    "WebbPSF produces various log messages while it works, using Python's built-in logging mechanism. In order to see them, we need to set up a log handler that will display them on the screen. This is done using the ``setup_logging`` function. "
   ]
  },
  {
   "cell_type": "code",
   "execution_count": null,
   "metadata": {},
   "outputs": [],
   "source": [
    "webbpsf.setup_logging()"
   ]
  },
  {
   "cell_type": "markdown",
   "metadata": {},
   "source": [
    "We can also choose to save log outputs to a file, if that's desired."
   ]
  },
  {
   "cell_type": "markdown",
   "metadata": {},
   "source": [
    "## Shaped pupil coronagraph PSF"
   ]
  },
  {
   "cell_type": "markdown",
   "metadata": {},
   "source": [
    "The list of supported observing modes is a private attribute of the CGI instrument subclass. If we instantiate a coronagraph without specifying a mode keyword, the init function will print the table and note the default settings."
   ]
  },
  {
   "cell_type": "code",
   "execution_count": null,
   "metadata": {},
   "outputs": [],
   "source": [
    "default_cgi = roman.CGI()"
   ]
  },
  {
   "cell_type": "markdown",
   "metadata": {},
   "source": [
    "There are two shaped pupil coronagraphs implemented so far: 'CHARSPC' and 'DISKSPC' -- these are the atmospheric characterization and debris disk imaging modes of CGI, respectively. The filters choices for 'CHARSPC' are 'F660','F770', and 'F890' (18% bandwidth IFS filters centered at 660 nm, 770 nm, and 890 nm). The 'DISKSPC' operates with one filter, 'F721', centered at 721 nm with a 5% bandwidth imaging filter. All of these coronagraphs us the same Lyot stop."
   ]
  },
  {
   "cell_type": "markdown",
   "metadata": {},
   "source": [
    "Now let's make a new object specifying the characterization mode centered at wavelength 770 nm."
   ]
  },
  {
   "cell_type": "code",
   "execution_count": null,
   "metadata": {},
   "outputs": [],
   "source": [
    "char_spc = roman.CGI(mode='CHARSPC_F770')"
   ]
  },
  {
   "cell_type": "markdown",
   "metadata": {},
   "source": [
    "We can use the ``display()`` method of the new optical system to show the masks that define the coronagraph, starting from the telescope pupil. "
   ]
  },
  {
   "cell_type": "code",
   "execution_count": null,
   "metadata": {},
   "outputs": [],
   "source": [
    "plt.figure(figsize=(6,9))\n",
    "char_spc.display()"
   ]
  },
  {
   "cell_type": "markdown",
   "metadata": {},
   "source": [
    "To simulate the PSF, we then call its ``calc_psf`` function.  Note the log output describes various details of the calculation as it proceeds. The returned result is a fits HDUList object containing both the image data and its associated metadata in the header. "
   ]
  },
  {
   "cell_type": "code",
   "execution_count": null,
   "metadata": {
    "scrolled": true
   },
   "outputs": [],
   "source": [
    "plt.figure(figsize=(12,9))\n",
    "mono_char_spc_psf = char_spc.calc_psf(nlambda=1, fov_arcsec=1.6, display=True)"
   ]
  },
  {
   "cell_type": "code",
   "execution_count": null,
   "metadata": {},
   "outputs": [],
   "source": [
    "webbpsf.display_psf(mono_char_spc_psf,ext=1,vmin=1e-13, vmax=1e-10)"
   ]
  },
  {
   "cell_type": "markdown",
   "metadata": {},
   "source": [
    "Note, in Poppy/WebbPSF the PSF intensity values are normalized to the sum of the intensity in the telescope pupil. Therefore, the values in the intensity colorbar are NOT contrast units. In the next example, we will show how to display the PSF result in contrast units."
   ]
  },
  {
   "cell_type": "markdown",
   "metadata": {},
   "source": [
    "## Integral field spectrograph PSF with the characterization SPC"
   ]
  },
  {
   "cell_type": "code",
   "execution_count": null,
   "metadata": {},
   "outputs": [],
   "source": [
    "webbpsf.setup_logging('ERROR') # Reduce the verbosity"
   ]
  },
  {
   "cell_type": "markdown",
   "metadata": {},
   "source": [
    "To approximate the PSF produced by the integral field spectrograph, we can form a cube of monochromatic PSFs computed at wavelengths spanning the bandpass:"
   ]
  },
  {
   "cell_type": "code",
   "execution_count": null,
   "metadata": {},
   "outputs": [],
   "source": [
    "ifs_spc = roman.CGI()\n",
    "ifs_spc.mode = 'CHARSPC_F890'\n",
    "\n",
    "filter_fname = ifs_spc._filters[ifs_spc.filter].filename\n",
    "filter_hdulist = fits.open(filter_fname)\n",
    "wave_beg = (float(filter_hdulist[1].header.get('LAMBDA0')) - float(filter_hdulist[1].header.get('DELTALAM'))/2)\n",
    "wave_end = (float(filter_hdulist[1].header.get('LAMBDA0')) + float(filter_hdulist[1].header.get('DELTALAM'))/2)\n",
    "deltalam_ifs = float(filter_hdulist[1].header.get('LAMBDA0'))/70. # Assume spectral resolution R = 70\n",
    "Nchan = (int(np.floor((wave_end - wave_beg)/deltalam_ifs))//2)*2 + 1 # Number of channels, forced to an odd integer\n",
    "wavelens = np.linspace(wave_beg, wave_end, Nchan) * 1e-10 # all wavelengths to model, in meters\n",
    "\n",
    "lamoD_asec = float(filter_hdulist[1].header.get('LAMBDA0'))*1e-10/(2*ifs_spc.PUPIL_RADIUS) * 180/np.pi * 3600\n",
    "print(\"System diffraction resolution element scale (lambda_0/D) in arcsec: %.3f\" % lamoD_asec)\n",
    "print(\"IFS spectral parameters: %d channels of characteristic spectral width %.2f nm,\" % (Nchan,deltalam_ifs/10.))\n",
    "print(\"ranging from %d nm to %d nm, centered on %d nm\" % (wavelens[0]*1e9, wavelens[-1]*1e9, wavelens[Nchan//2]*1e9))\n",
    "filter_hdulist.close()"
   ]
  },
  {
   "cell_type": "code",
   "execution_count": null,
   "metadata": {},
   "outputs": [],
   "source": [
    "ifs_spc.options['source_offset_r'] = 0 # arcsec\n",
    "ifs_spc.options['source_offset_theta'] = 0 # deg w.r.t. North\n",
    "\n",
    "ifs_psf_onax = ifs_spc.calc_datacube(wavelens, fov_arcsec=1.64, oversample=4, display=False)\n",
    "print(\"The resulting data cube has dimensions {} wavelengths x {} pixels x {} pixels\".format\\\n",
    "      (ifs_psf_onax[1].data.shape[0], ifs_psf_onax[1].data.shape[1], ifs_psf_onax[1].data.shape[2]))"
   ]
  },
  {
   "cell_type": "markdown",
   "metadata": {},
   "source": [
    "### Convert the PSF cube intensity values to units of contrast, using the off-axis PSF "
   ]
  },
  {
   "cell_type": "markdown",
   "metadata": {},
   "source": [
    "We can use the source offset option to propagate a plane wave through the transmitted region of the focal plane mask. This provides a close approximation for the peak of the target star PSF if we had not occulted it, which in turn determines the conversion factor to contrast units."
   ]
  },
  {
   "cell_type": "code",
   "execution_count": null,
   "metadata": {},
   "outputs": [],
   "source": [
    "ifs_spc.options['source_offset_r'] = 6*lamoD_asec # 6 lam/D in arcsec\n",
    "ifs_spc.options['source_offset_theta'] = -90. # deg w.r.t. North\n",
    "\n",
    "ifs_psf_offax = ifs_spc.calc_datacube(wavelens, fov_arcsec=1.64, oversample=4, display=False)\n",
    "offax_peak_vec = np.max(np.max(ifs_psf_offax[1].data, axis=-1), axis=-1)\n",
    "offax_peak_cube = np.tile(offax_peak_vec[:,np.newaxis,np.newaxis],\n",
    "                          (1, ifs_psf_onax[1].data.shape[-2], ifs_psf_onax[1].data.shape[-1]))\n",
    "\n",
    "ifs_psf_onax_contrast = ifs_psf_onax[1].data / offax_peak_cube"
   ]
  },
  {
   "cell_type": "markdown",
   "metadata": {},
   "source": [
    "## Plot the polychromatic PSF cube of the IFS in contrast units. "
   ]
  },
  {
   "cell_type": "code",
   "execution_count": null,
   "metadata": {},
   "outputs": [],
   "source": [
    "def plt_ifs_psf_onax(wchan):\n",
    "    plt.imshow(ifs_psf_onax_contrast[wchan-1], norm=matplotlib.colors.LogNorm(),\n",
    "               vmin=3e-10, vmax=3e-8, cmap='gist_heat')\n",
    "    plt.colorbar()\n",
    "ipywidgets.interact(plt_ifs_psf_onax, wchan=(1,Nchan));"
   ]
  },
  {
   "cell_type": "markdown",
   "metadata": {},
   "source": [
    "### Plot the off-axis PSF used for the contrast calibration"
   ]
  },
  {
   "cell_type": "code",
   "execution_count": null,
   "metadata": {},
   "outputs": [],
   "source": [
    "def plt_ifs_psf_offax(wchan):\n",
    "    plt.imshow(ifs_psf_offax[1].data[wchan-1], cmap='gist_heat');\n",
    "    plt.colorbar()\n",
    "ipywidgets.interact(plt_ifs_psf_offax, wchan=(1,len(wavelens)));"
   ]
  },
  {
   "cell_type": "markdown",
   "metadata": {},
   "source": [
    "# Debris disk mode SPC"
   ]
  },
  {
   "cell_type": "code",
   "execution_count": null,
   "metadata": {},
   "outputs": [],
   "source": [
    "diskcg = roman.CGI(mode='DISKSPC_F721')\n",
    "diskcg.options['source_offset_r'] = 0 # arcsec\n",
    "diskcg.options['source_offset_theta'] = 0 # deg w.r.t. North"
   ]
  },
  {
   "cell_type": "code",
   "execution_count": null,
   "metadata": {},
   "outputs": [],
   "source": [
    "diskpsf_onax = diskcg.calc_psf(fov_arcsec=2.2, display=False)"
   ]
  },
  {
   "cell_type": "code",
   "execution_count": null,
   "metadata": {},
   "outputs": [],
   "source": [
    "webbpsf.display_psf(diskpsf_onax,ext=1,vmin=1e-11, vmax=1e-9)"
   ]
  },
  {
   "cell_type": "markdown",
   "metadata": {},
   "source": [
    "## Off-axis PSF"
   ]
  },
  {
   "cell_type": "code",
   "execution_count": null,
   "metadata": {},
   "outputs": [],
   "source": [
    "diskcg.options['source_offset_r'] = 0.6 # arcsec\n",
    "diskcg.options['source_offset_theta'] = -45. # deg w.r.t. North"
   ]
  },
  {
   "cell_type": "code",
   "execution_count": null,
   "metadata": {},
   "outputs": [],
   "source": [
    "plt.figure(figsize=(12,9))\n",
    "diskpsf_offax = diskcg.calc_psf(fov_arcsec=2.2, display=True)\n",
    "diskpsf_offax_peak = diskpsf_offax[1].data.max()"
   ]
  },
  {
   "cell_type": "code",
   "execution_count": null,
   "metadata": {},
   "outputs": [],
   "source": [
    "# Form a simple bright companion scene by summing the on-axis and off-axis PSF, the latter scaled by 1E-7.\n",
    "comb_img = (diskpsf_onax[1].data + diskpsf_offax[1].data*1e-7)/diskpsf_offax_peak # Contrast units\n",
    "comb_hdu = fits.PrimaryHDU(comb_img, header=diskpsf_onax[1].header)\n",
    "comb_hdulist = fits.HDUList([comb_hdu])"
   ]
  },
  {
   "cell_type": "markdown",
   "metadata": {},
   "source": [
    "### Plot composite disk SPC PSF (on-axis + off-axis@1E-7 contrast) in units of contrast "
   ]
  },
  {
   "cell_type": "code",
   "execution_count": null,
   "metadata": {},
   "outputs": [],
   "source": [
    "webbpsf.display_psf(comb_hdulist,vmin=1e-9, vmax=3e-8)"
   ]
  },
  {
   "cell_type": "markdown",
   "metadata": {},
   "source": [
    "#TEST AREA"
   ]
  },
  {
   "cell_type": "code",
   "execution_count": null,
   "metadata": {},
   "outputs": [],
   "source": [
    "%pylab inline --no-import-all\n",
    "matplotlib.rcParams['image.origin'] = 'lower'\n",
    "matplotlib.rcParams['image.interpolation'] = 'nearest'\n",
    "\n",
    "import os\n",
    "os.environ['WEBBPSF_PATH'] = '../webbpsf_data/'\n",
    "#os.environ['WEBBPSF_PATH'] = '/home/marken/GitHub/webbpsf/webbpsf_data/'\n",
    "import webbpsf\n",
    "from webbpsf import roman\n",
    "import ipywidgets\n",
    "from astropy.io import fits\n",
    "from matplotlib.colors import LogNorm\n",
    "from matplotlib import colors, ticker, cm\n",
    "\n",
    "webbpsf.setup_logging()\n",
    "DMon = roman.CGI(mode='CHARSPC_F770')\n",
    "DMoff = roman.CGI(mode='CHARSPC_F770')\n",
    "DMoff.fpm = \"OFF\""
   ]
  },
  {
   "cell_type": "code",
   "execution_count": null,
   "metadata": {},
   "outputs": [],
   "source": [
    "plt.figure(figsize=(6,9))\n",
    "DMoff.display()\n",
    "#DMoff.calc_psf(nlambda=1, fov_arcsec=1.6, display=True)"
   ]
  },
  {
   "cell_type": "code",
   "execution_count": null,
   "metadata": {},
   "outputs": [],
   "source": [
    "DMon.dm1.set_actuator(4, 8, 1)\n",
    "DMon.dm1.set_actuator(44, 40, 1)\n",
    "DMon.dm1.display()\n",
    "plt.figure(figsize=(6,9))\n",
    "DMon.display()\n",
    "#DMon.calc_psf(nlambda=1, fov_arcsec=1.6, display=True)"
   ]
  },
  {
   "cell_type": "code",
   "execution_count": null,
   "metadata": {},
   "outputs": [],
   "source": [
    "plt.figure(figsize=(6,9))\n",
    "DMoff.display()"
   ]
  },
  {
   "cell_type": "code",
   "execution_count": null,
   "metadata": {},
   "outputs": [],
   "source": [
    "DMon.SPC_contrast()"
   ]
  },
  {
   "cell_type": "code",
   "execution_count": null,
   "metadata": {},
   "outputs": [],
   "source": [
    "def circle_mask(im , rad):\n",
    "    \"\"\"Create a circular aperture  with radius rad.\"\"\"\n",
    "    xc = len(im)/2\n",
    "    yc = len(im)/2\n",
    "    x, y = np.shape(im)\n",
    "    newy, newx = np.mgrid[:y,:x]\n",
    "    circ = (newx-xc)**2 + (newy-yc)**2 < rad**2\n",
    "    return circ.astype('float')\n",
    "\n",
    "def section(im , angle):\n",
    "    \"\"\"Generate an angular section\"\"\"\n",
    "    x, y = np.shape(im)\n",
    "    xc = len(im)/2\n",
    "    yc = len(im)/2\n",
    "    newy, newx = np.mgrid[:y,:x]\n",
    "    section = np.abs((newy-yc)/(newx-xc)) < np.arctan(angle)\n",
    "    \n",
    "    return section.astype('float')"
   ]
  },
  {
   "cell_type": "code",
   "execution_count": null,
   "metadata": {},
   "outputs": [],
   "source": [
    "def SPC_DH(PSF_corona, PSF_raw, display=True):\n",
    "    PSF_corona_fit = PSF_corona.calc_psf(nlambda=1, fov_arcsec=1.6)\n",
    "    PSF_raw_fit = PSF_raw.calc_psf(nlambda=1, fov_arcsec=1.6)\n",
    "    \n",
    "    #Get some header useful data #TODO get variable more higher    \n",
    "    header = PSF_corona_fit[0].header\n",
    "    npix = header[3]\n",
    "    pix_scale = header[11]\n",
    "    lambdaD_scale = header[8]\n",
    "    lambdaD_pix_scale = lambdaD_scale /pix_scale\n",
    "    \n",
    "    PSF_corona_data = PSF_corona_fit[0].data\n",
    "    PSF_raw_data = PSF_raw_fit[0].data\n",
    "\n",
    "    #Generate an sectionnal annulus mask\n",
    "    IWA = circle_mask(PSF_corona_data, 3*lambdaD_pix_scale)\n",
    "    OWA = circle_mask(PSF_corona_data, 9*lambdaD_pix_scale)\n",
    "    WA = OWA - IWA\n",
    "    WA *= section(PSF_corona_data, 50*np.pi/180)\n",
    "\n",
    "    #Compute instrumental contrast\n",
    "    contrast = PSF_corona_data*WA\n",
    "    norm = np.max(WA*PSF_raw_data)\n",
    "    contrast_norm = (contrast/norm)\n",
    "    \n",
    "    if(display == True):\n",
    "        scale = pix_scale * int(npix/2)\n",
    "        plt.imshow(WA*PSF_raw_data,  norm = LogNorm(), cmap = 'inferno', extent=[-scale,scale,-scale,scale])\n",
    "        plt.xlabel('arcsec')\n",
    "        plt.ylabel('arcsec')\n",
    "        plt.colorbar()\n",
    "        \n",
    "    return np.mean(contrast_norm[np.where(contrast_norm!=0)])"
   ]
  },
  {
   "cell_type": "code",
   "execution_count": null,
   "metadata": {},
   "outputs": [],
   "source": [
    "SPC_DH(DMon , DMoff)"
   ]
  },
  {
   "cell_type": "code",
   "execution_count": null,
   "metadata": {},
   "outputs": [],
   "source": [
    "PSF_DMon_fit = DMon.calc_psf(nlambda=1, fov_arcsec=1.6)\n",
    "header = PSF_DMon_fit[0].header\n",
    "header"
   ]
  },
  {
   "cell_type": "code",
   "execution_count": null,
   "metadata": {},
   "outputs": [],
   "source": [
    "DMon.SPC_contrast()"
   ]
  },
  {
   "cell_type": "code",
   "execution_count": null,
   "metadata": {},
   "outputs": [],
   "source": [
    "DMoff.calc_psf(display=True)"
   ]
  },
  {
   "cell_type": "code",
   "execution_count": null,
   "metadata": {},
   "outputs": [],
   "source": [
    "DMoff.fpm"
   ]
  },
  {
   "cell_type": "code",
   "execution_count": null,
   "metadata": {},
   "outputs": [],
   "source": [
    "test = roman.CGI()\n"
   ]
  },
  {
   "cell_type": "code",
   "execution_count": null,
   "metadata": {},
   "outputs": [],
   "source": [
    "test.fpm"
   ]
  },
  {
   "cell_type": "code",
   "execution_count": null,
   "metadata": {},
   "outputs": [],
   "source": [
    "test2 = test"
   ]
  },
  {
   "cell_type": "code",
   "execution_count": null,
   "metadata": {},
   "outputs": [],
   "source": [
    "test2.fpm = \"OFF\""
   ]
  },
  {
   "cell_type": "code",
   "execution_count": null,
   "metadata": {},
   "outputs": [],
   "source": [
    "test.fpm"
   ]
  },
  {
   "cell_type": "code",
   "execution_count": null,
   "metadata": {},
   "outputs": [],
   "source": [
    "test2.display()"
   ]
  },
  {
   "cell_type": "code",
   "execution_count": null,
   "metadata": {},
   "outputs": [],
   "source": [
    "DMon.set_surface()"
   ]
  },
  {
   "cell_type": "code",
   "execution_count": null,
   "metadata": {},
   "outputs": [],
   "source": [
    "test.fpm = None"
   ]
  },
  {
   "cell_type": "code",
   "execution_count": null,
   "metadata": {},
   "outputs": [],
   "source": []
  }
 ],
 "metadata": {
  "anaconda-cloud": {},
  "kernelspec": {
   "display_name": "Python 3",
   "language": "python",
   "name": "python3"
  },
  "language_info": {
   "codemirror_mode": {
    "name": "ipython",
    "version": 3
   },
   "file_extension": ".py",
   "mimetype": "text/x-python",
   "name": "python",
   "nbconvert_exporter": "python",
   "pygments_lexer": "ipython3",
   "version": "3.9.2"
  },
  "widgets": {
   "state": {
    "18e742cedae3460e9c2fcedcd88563cd": {
     "views": [
      {
       "cell_index": 31
      }
     ]
    },
    "7d98f081e85f47ce9b8e118bf3c7ce92": {
     "views": [
      {
       "cell_index": 29
      }
     ]
    }
   },
   "version": "1.2.0"
  }
 },
 "nbformat": 4,
 "nbformat_minor": 1
}
